{
  "metadata": {
    "kernelspec": {
      "name": "python",
      "display_name": "Pyolite",
      "language": "python"
    },
    "language_info": {
      "codemirror_mode": {
        "name": "python",
        "version": 3
      },
      "file_extension": ".py",
      "mimetype": "text/x-python",
      "name": "python",
      "nbconvert_exporter": "python",
      "pygments_lexer": "ipython3",
      "version": "3.8"
    }
  },
  "nbformat_minor": 4,
  "nbformat": 4,
  "cells": [
    {
      "cell_type": "markdown",
      "source": "<center>\n    <img src=\"https://s3-api.us-geo.objectstorage.softlayer.net/cf-courses-data/CognitiveClass/Logos/organization_logo/organization_logo.png\" width=\"300\" alt=\"cognitiveclass.ai logo\"  />\n</center>\n",
      "metadata": {}
    },
    {
      "cell_type": "markdown",
      "source": "#### Add your code below following the instructions given in the course\n",
      "metadata": {}
    },
    {
      "cell_type": "markdown",
      "source": "<h1> My Jupyter Notebook on IBM Watson Studio </h1>",
      "metadata": {}
    },
    {
      "cell_type": "markdown",
      "source": "<b> David Bao </b>\n<br> Data Scientist",
      "metadata": {}
    },
    {
      "cell_type": "markdown",
      "source": "<i> I am interested in data science because I am curious about the implications you can draw from data. </i>",
      "metadata": {}
    },
    {
      "cell_type": "markdown",
      "source": "<h3> In cell 5 I add 1 plus 1 </h3>",
      "metadata": {}
    },
    {
      "cell_type": "code",
      "source": "1+1",
      "metadata": {
        "trusted": true
      },
      "execution_count": 1,
      "outputs": [
        {
          "execution_count": 1,
          "output_type": "execute_result",
          "data": {
            "text/plain": "2"
          },
          "metadata": {}
        }
      ]
    },
    {
      "cell_type": "markdown",
      "source": "<p style=\"text-decoration: line-through;\">\nThis is a table\n</p>\n| Col1 | Col2 |\n| ------ | ------ |\n| Entry1 | Entry2 |\n",
      "metadata": {}
    }
  ]
}